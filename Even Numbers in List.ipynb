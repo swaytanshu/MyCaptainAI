{
 "cells": [
  {
   "cell_type": "code",
   "execution_count": 3,
   "metadata": {},
   "outputs": [
    {
     "name": "stdout",
     "output_type": "stream",
     "text": [
      "12\n",
      "5\n",
      "64\n"
     ]
    }
   ],
   "source": [
    "list1 = [12,-7,5,64,-14]\n",
    "for i in range (0,len(list1)):\n",
    "    j = int(list1[i])\n",
    "    if (j>0):\n",
    "        print (j)"
   ]
  },
  {
   "cell_type": "code",
   "execution_count": 5,
   "metadata": {},
   "outputs": [
    {
     "name": "stdout",
     "output_type": "stream",
     "text": [
      "[12, 14, 3]\n"
     ]
    }
   ],
   "source": [
    "list2 = [12,14,-95,3]\n",
    "list3 = []\n",
    "for i in range (0,len(list2)):\n",
    "    j = int(list2[i])\n",
    "    if (j>0):\n",
    "        list3.insert(i,j)\n",
    "print (list3)"
   ]
  },
  {
   "cell_type": "code",
   "execution_count": null,
   "metadata": {},
   "outputs": [],
   "source": []
  }
 ],
 "metadata": {
  "kernelspec": {
   "display_name": "Python 3",
   "language": "python",
   "name": "python3"
  },
  "language_info": {
   "codemirror_mode": {
    "name": "ipython",
    "version": 3
   },
   "file_extension": ".py",
   "mimetype": "text/x-python",
   "name": "python",
   "nbconvert_exporter": "python",
   "pygments_lexer": "ipython3",
   "version": "3.7.6"
  }
 },
 "nbformat": 4,
 "nbformat_minor": 4
}
