{
 "cells": [
  {
   "cell_type": "code",
   "execution_count": 2,
   "metadata": {},
   "outputs": [
    {
     "name": "stdout",
     "output_type": "stream",
     "text": [
      "[1.2, 'Hello', 40, True]\n"
     ]
    }
   ],
   "source": [
    "# Assigning elements to various lists\n",
    "l1 = [1.2,\"Hello\",40,True]\n",
    "print (l1)\n"
   ]
  },
  {
   "cell_type": "code",
   "execution_count": 3,
   "metadata": {},
   "outputs": [
    {
     "name": "stdout",
     "output_type": "stream",
     "text": [
      "Enter elements:10,20,30,40\n"
     ]
    }
   ],
   "source": [
    "l2 = input(\"Enter elements:\")\n",
    "l2 = l2.split(\",\")"
   ]
  },
  {
   "cell_type": "code",
   "execution_count": 8,
   "metadata": {},
   "outputs": [
    {
     "name": "stdout",
     "output_type": "stream",
     "text": [
      "['10', '20', '30', '40']\n"
     ]
    }
   ],
   "source": [
    "print (l2)"
   ]
  },
  {
   "cell_type": "code",
   "execution_count": 7,
   "metadata": {},
   "outputs": [
    {
     "name": "stdout",
     "output_type": "stream",
     "text": [
      "[2, 4, 6, 8, 10, 12, 14, 16, 18]\n"
     ]
    }
   ],
   "source": [
    "l3 = []\n",
    "for i in range (1,10):\n",
    "    l3.append(i*2)\n",
    "print (l3)  "
   ]
  },
  {
   "cell_type": "code",
   "execution_count": 9,
   "metadata": {},
   "outputs": [
    {
     "name": "stdout",
     "output_type": "stream",
     "text": [
      "30\n"
     ]
    }
   ],
   "source": [
    "#Accessing elements from a tuple\n",
    "t1 = (1,2,3,30,True)\n",
    "print (t1[3])"
   ]
  },
  {
   "cell_type": "code",
   "execution_count": 12,
   "metadata": {},
   "outputs": [
    {
     "name": "stdout",
     "output_type": "stream",
     "text": [
      "30\n",
      "mouse\n",
      "True\n"
     ]
    }
   ],
   "source": [
    "t2 = (\"mouse\",[2,30,5],True)\n",
    "print (t2[1][1])\n",
    "print (t2[0])\n",
    "print (t2[2])"
   ]
  },
  {
   "cell_type": "code",
   "execution_count": 13,
   "metadata": {},
   "outputs": [
    {
     "name": "stdout",
     "output_type": "stream",
     "text": [
      "{100: 'Hi', 101: 'there!', 102: 'You', 103: 'there', 104: '?'}\n"
     ]
    }
   ],
   "source": [
    "#Deleting different dictionary elements\n",
    "dict1 = {100 : \"Hi\", 101 : \"there!\", 102 : \"You\", 103 : \"there\", 104 : \"?\"}\n",
    "print (dict1)"
   ]
  },
  {
   "cell_type": "code",
   "execution_count": 14,
   "metadata": {
    "scrolled": true
   },
   "outputs": [
    {
     "name": "stdout",
     "output_type": "stream",
     "text": [
      "Updated dictionary: {100: 'Hi', 101: 'there!', 102: 'You', 103: 'there'}\n"
     ]
    }
   ],
   "source": [
    "if 104 in dict1:\n",
    "    del dict1[104]\n",
    "print (\"Updated dictionary:\", dict1)"
   ]
  },
  {
   "cell_type": "code",
   "execution_count": 15,
   "metadata": {},
   "outputs": [
    {
     "name": "stdout",
     "output_type": "stream",
     "text": [
      "Deleted item: Hi\n",
      "Updated dictionary: {101: 'there!', 102: 'You', 103: 'there'}\n"
     ]
    }
   ],
   "source": [
    "item = dict1.pop(100,None)\n",
    "print (\"Deleted item:\", item)\n",
    "print (\"Updated dictionary:\", dict1)"
   ]
  },
  {
   "cell_type": "code",
   "execution_count": 16,
   "metadata": {},
   "outputs": [
    {
     "name": "stdout",
     "output_type": "stream",
     "text": [
      "Deleted item: None\n",
      "Updated dictionary: {101: 'there!', 102: 'You', 103: 'there'}\n"
     ]
    }
   ],
   "source": [
    "item = dict1.pop(100,None)\n",
    "print (\"Deleted item:\", item)\n",
    "print (\"Updated dictionary:\", dict1)"
   ]
  },
  {
   "cell_type": "code",
   "execution_count": null,
   "metadata": {},
   "outputs": [],
   "source": []
  }
 ],
 "metadata": {
  "kernelspec": {
   "display_name": "Python 3",
   "language": "python",
   "name": "python3"
  },
  "language_info": {
   "codemirror_mode": {
    "name": "ipython",
    "version": 3
   },
   "file_extension": ".py",
   "mimetype": "text/x-python",
   "name": "python",
   "nbconvert_exporter": "python",
   "pygments_lexer": "ipython3",
   "version": "3.7.6"
  }
 },
 "nbformat": 4,
 "nbformat_minor": 4
}
